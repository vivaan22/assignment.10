{
 "cells": [
  {
   "cell_type": "code",
   "execution_count": null,
   "id": "03c4b9a8",
   "metadata": {},
   "outputs": [],
   "source": [
    "row_num = int(input(\"Input number of rows: \"))\n",
    "col_num = int(input(\"Input number of columns: \"))\n",
    "multi_list = [[0 for col in range(col_num)] for row in range(row_num)]\n",
    "\n",
    "for row in range(row_num):\n",
    "    for col in range(col_num):\n",
    "        multi_list[row][col]= row*col\n",
    "\n",
    "print(multi_list)"
   ]
  },
  {
   "cell_type": "code",
   "execution_count": null,
   "id": "ef819388",
   "metadata": {},
   "outputs": [],
   "source": [
    "> issubclass(bool, int)\n",
    "True\n",
    ">>> help(bool)\n",
    "Help on class bool in module builtins:\n",
    "\n",
    "class bool(int)\n",
    "    ...\n",
    "\n",
    ">>> type(True)\n",
    "<class 'bool'>\n",
    ">>> type(False)\n",
    "<class 'bool'>\n",
    "\n",
    ">>> isinstance(True, int)\n",
    "True\n",
    ">>> isinstance(False, int)\n",
    "True\n",
    "\n",
    ">>> int(True)\n",
    "1\n",
    ">>> int(False)\n",
    "0"
   ]
  },
  {
   "cell_type": "code",
   "execution_count": null,
   "id": "8160a014",
   "metadata": {},
   "outputs": [],
   "source": [
    "def print_rectangle(n, m) :\n",
    "     \n",
    "    for i in range(1, n+1) :\n",
    "        for j in range(1, m+1) :\n",
    "            if (i == 1 or i == n or\n",
    "                j == 1 or j == m) :\n",
    "                print(\"*\", end=\"\")           \n",
    "            else :\n",
    "                print(\" \", end=\"\")           \n",
    "         \n",
    "        print()\n",
    " \n",
    " \n",
    "# Driver program for above function\n",
    "rows = 6\n",
    "columns = 20\n",
    "print_rectangle(rows, columns)\n",
    " "
   ]
  },
  {
   "cell_type": "code",
   "execution_count": null,
   "id": "663d205c",
   "metadata": {},
   "outputs": [],
   "source": [
    "def has_duplicate_words(filename):\n",
    "    with open(filename, 'r') as f:\n",
    "        words = set()\n",
    "        for line in f.readlines():\n",
    "            lineWords = line.split()\n",
    "            for word in lineWords:\n",
    "                if word in words:\n",
    "                    return True\n",
    "\n",
    "                words.add(word)\n",
    "    return False"
   ]
  }
 ],
 "metadata": {
  "kernelspec": {
   "display_name": "Python 3",
   "language": "python",
   "name": "python3"
  },
  "language_info": {
   "codemirror_mode": {
    "name": "ipython",
    "version": 3
   },
   "file_extension": ".py",
   "mimetype": "text/x-python",
   "name": "python",
   "nbconvert_exporter": "python",
   "pygments_lexer": "ipython3",
   "version": "3.8.8"
  }
 },
 "nbformat": 4,
 "nbformat_minor": 5
}
